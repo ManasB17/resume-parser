{
 "cells": [
  {
   "cell_type": "code",
   "execution_count": 11,
   "metadata": {},
   "outputs": [],
   "source": [
    "import tika\n",
    "import re\n",
    "from tika import parser\n",
    "import nltk\n",
    "from nltk.corpus import stopwords\n",
    "from nltk.tokenize import word_tokenize\n",
    "tika.initVM()"
   ]
  },
  {
   "cell_type": "code",
   "execution_count": 12,
   "metadata": {},
   "outputs": [
    {
     "name": "stderr",
     "output_type": "stream",
     "text": [
      "[nltk_data] Downloading package punkt to /Users/mr.jpu/nltk_data...\n",
      "[nltk_data]   Package punkt is already up-to-date!\n",
      "[nltk_data] Downloading package stopwords to\n",
      "[nltk_data]     /Users/mr.jpu/nltk_data...\n",
      "[nltk_data]   Package stopwords is already up-to-date!\n"
     ]
    },
    {
     "data": {
      "text/plain": [
       "True"
      ]
     },
     "execution_count": 12,
     "metadata": {},
     "output_type": "execute_result"
    }
   ],
   "source": [
    "nltk.download('punkt')\n",
    "nltk.download('stopwords')"
   ]
  },
  {
   "cell_type": "code",
   "execution_count": 13,
   "metadata": {},
   "outputs": [],
   "source": [
    "def extract_text_from_resume(file_path):\n",
    "    results = parser.from_file(filename=file_path)\n",
    "    document_text = results['content']\n",
    "    \n",
    "    return document_text"
   ]
  },
  {
   "cell_type": "code",
   "execution_count": 14,
   "metadata": {},
   "outputs": [],
   "source": [
    "def preprocess_text(extracted_text):\n",
    "    \n",
    "    # Define regex pattern to match list symbols and punctuation\n",
    "    pattern = r'^[\\s\\t]*[•*+\\-–>❖➢★■›»○✓✔✗✘x;:,�()\\'\\\"“”‘’][\\s\\t]+'\n",
    "\n",
    "    # Remove list symbols and punctuation using regex\n",
    "    clean_text = re.sub(pattern, '', extracted_text, flags=re.MULTILINE)\n",
    "\n",
    "    # Remove stop words and extra spaces\n",
    "    stop_words = set(stopwords.words('english'))\n",
    "    words = word_tokenize(clean_text)\n",
    "    filtered_words = [word for word in words if word.lower() not in stop_words]\n",
    "    clean_text = ' '.join(filtered_words)\n",
    "\n",
    "    # Remove extra spaces between email addresses\n",
    "    email_pattern = r'(?<![^\\s])\\s*([A-Za-z0-9._%+-]+)\\s*@\\s*([A-Za-z0-9.-]+\\.[A-Z|a-z]{2,})(?![^\\s])'\n",
    "    clean_text = re.sub(email_pattern, r'\\1@\\2', clean_text)\n",
    "\n",
    "    # Remove periods that are not part of a sentence or email address\n",
    "    clean_text = re.sub(r'(?<!@)\\.(?!\\w|\\s)', '', clean_text)\n",
    "\n",
    "    return clean_text\n"
   ]
  },
  {
   "cell_type": "code",
   "execution_count": 15,
   "metadata": {},
   "outputs": [
    {
     "data": {
      "text/plain": [
       "'MYCV.docx JYOTI PRAKASH UPRETY Aspiring Data Scientist PERSONAL DETAILS Date Birth : 12-03-1999 Place Birth : Jhapa Civil Status : Unmarried Gender : Male Phone : +977-9824035434 Email : Jyotiprakashuprety35 @ gmail.com CAREER OBJECTIVES explore , analyze process complex data sets using advanced querying , visualization , analytics tools.To Data Science expert provide decision support different field reaching conclusion.To optimize business processes taking advantage data providing new vision existing system . COURSES MERN Stack ( Patan Multiple Campus ) 06/2019 -09/2019 SEO DIgital Marketing ( Patan Multiple Campus ) 05/2020 -07/2020 Google Data Analytics ( Coursera ) 12/2021 - Present ACHIEVEMENTS Topper ( BCA ) Patan Multiple Campus couple semesters . REFERENCES Bhoj Raj Joshi BCA Coordinator , PMC +977-9851164998 Ramesh Saud Lecturer , Patan Multiple Campus +977-9851164998 EDUCATION [ Shree Harikul Model Higher Secondary School ] /SLC [ 2003 ] - [ 2015 ] [ Shree Kankai Secondary School ] /+2 [ 2015 ] - [ 2017 ] [ Patan Multiple Campus ] /Bachelor Computer Application ( BCA ) [ 2018 ] - [ Present ] WORK EXPERIENCE ( PROJECTS ) [ MOTARGADI ( Vehicle Management system ) ] Patan Multiple Campus ( 08/2019–12/2019 ) web based project vehicle recommendation system . dual project handled backend part . [ ECG Classifier using Decision tree algorithm ] Patan Multiple Campus ( 08/2019–12/2019 ) IOT based project using AD8232 sensor ESP32 microcontroller . Kaggle standard ECG data used training model ID3 decision tree algorithm . SKILLS Java- Intermediate Python- Intermediate Pandas- Beginner Numpy- Beginner SKlearn- Beginner MySQL- Intermediate Excel- Intermediate Linux- Intermediate MERN - Intermediate Laravel -Intermediate'"
      ]
     },
     "execution_count": 15,
     "metadata": {},
     "output_type": "execute_result"
    }
   ],
   "source": [
    "resume ='../data/raw/MY@CV.pdf'\n",
    "extracted_text = extract_text_from_resume(resume)\n",
    "clean_text = preprocess_text(extracted_text)\n",
    "clean_text"
   ]
  }
 ],
 "metadata": {
  "kernelspec": {
   "display_name": "nlp_env",
   "language": "python",
   "name": "python3"
  },
  "language_info": {
   "codemirror_mode": {
    "name": "ipython",
    "version": 3
   },
   "file_extension": ".py",
   "mimetype": "text/x-python",
   "name": "python",
   "nbconvert_exporter": "python",
   "pygments_lexer": "ipython3",
   "version": "3.10.2"
  },
  "orig_nbformat": 4
 },
 "nbformat": 4,
 "nbformat_minor": 2
}
