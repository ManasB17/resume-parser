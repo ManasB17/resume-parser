{
 "cells": [
  {
   "cell_type": "code",
   "execution_count": 274,
   "metadata": {},
   "outputs": [],
   "source": [
    "import tika\n",
    "import re\n",
    "from tika import parser\n",
    "import nltk\n",
    "from nltk.corpus import stopwords\n",
    "from nltk.tokenize import word_tokenize\n",
    "from nltk import ne_chunk, pos_tag, word_tokenize\n",
    "from nltk.tree import Tree\n",
    "tika.initVM()\n",
    "import spacy"
   ]
  },
  {
   "cell_type": "code",
   "execution_count": 275,
   "metadata": {},
   "outputs": [
    {
     "name": "stderr",
     "output_type": "stream",
     "text": [
      "[nltk_data] Downloading package punkt to /Users/mr.jpu/nltk_data...\n",
      "[nltk_data]   Package punkt is already up-to-date!\n",
      "[nltk_data] Downloading package stopwords to\n",
      "[nltk_data]     /Users/mr.jpu/nltk_data...\n",
      "[nltk_data]   Package stopwords is already up-to-date!\n",
      "[nltk_data] Downloading package averaged_perceptron_tagger to\n",
      "[nltk_data]     /Users/mr.jpu/nltk_data...\n",
      "[nltk_data]   Package averaged_perceptron_tagger is already up-to-\n",
      "[nltk_data]       date!\n",
      "[nltk_data] Downloading package maxent_ne_chunker to\n",
      "[nltk_data]     /Users/mr.jpu/nltk_data...\n",
      "[nltk_data]   Package maxent_ne_chunker is already up-to-date!\n",
      "[nltk_data] Downloading package words to /Users/mr.jpu/nltk_data...\n",
      "[nltk_data]   Package words is already up-to-date!\n"
     ]
    },
    {
     "data": {
      "text/plain": [
       "True"
      ]
     },
     "execution_count": 275,
     "metadata": {},
     "output_type": "execute_result"
    }
   ],
   "source": [
    "nltk.download('punkt')\n",
    "nltk.download('stopwords')\n",
    "nltk.download('averaged_perceptron_tagger')\n",
    "nltk.download('maxent_ne_chunker')\n",
    "nltk.download('words')"
   ]
  },
  {
   "cell_type": "code",
   "execution_count": 276,
   "metadata": {},
   "outputs": [],
   "source": [
    "def extract_names(resume_text):\n",
    "    # Tokenize the text into sentences and words\n",
    "    sentences = nltk.sent_tokenize(resume_text)\n",
    "    words = [nltk.word_tokenize(sentence) for sentence in sentences]\n",
    "\n",
    "    # Apply part-of-speech tagging to the words\n",
    "    tagged_words = [nltk.pos_tag(sentence) for sentence in words]\n",
    "\n",
    "    # Use NLTK's named entity recognition to extract named entities\n",
    "    named_entities = nltk.ne_chunk_sents(tagged_words, binary=False)\n",
    "\n",
    "    # Find named entities that are people\n",
    "    people = []\n",
    "    for sentence in named_entities:\n",
    "        for chunk in sentence:\n",
    "            if type(chunk) == nltk.tree.Tree and chunk.label() == 'PERSON':\n",
    "                person = ' '.join([c[0] for c in chunk])\n",
    "                people.append(person)\n",
    "\n",
    "    return people"
   ]
  },
  {
   "cell_type": "code",
   "execution_count": 277,
   "metadata": {},
   "outputs": [],
   "source": [
    "def extract_text_from_resume(file_path):\n",
    "    results = parser.from_file(filename=file_path)\n",
    "    document_text = results['content']\n",
    "    \n",
    "    return document_text"
   ]
  },
  {
   "cell_type": "code",
   "execution_count": 278,
   "metadata": {},
   "outputs": [],
   "source": [
    "EMAIL_REG = re.compile(r'[a-z0-9\\.\\-+_]+@[a-z0-9\\.\\-+_]+\\.[a-z]+', re.IGNORECASE)\n",
    "\n",
    "def extract_emails(resume_text):\n",
    "    return re.findall(EMAIL_REG, resume_text)"
   ]
  },
  {
   "cell_type": "code",
   "execution_count": 279,
   "metadata": {},
   "outputs": [],
   "source": [
    "def preprocess_text(extracted_text):\n",
    "    \n",
    "    # Define regex pattern to match list symbols and punctuation\n",
    "    pattern = r'^[\\s\\t]*[•*+\\-–>❖➢★■›»○✓✔✗✘x;:,�()\\'\\\"“”‘’][\\s\\t]+'\n",
    "\n",
    "    # Remove list symbols and punctuation using regex\n",
    "    clean_text = re.sub(pattern, '', extracted_text, flags=re.MULTILINE)\n",
    "\n",
    "    # Remove stop words and extra spaces\n",
    "    stop_words = set(stopwords.words('english'))\n",
    "    words = word_tokenize(clean_text)\n",
    "    filtered_words = [word for word in words if word.lower() not in stop_words]\n",
    "    clean_text = ' '.join(filtered_words)\n",
    "\n",
    "    # Remove extra spaces between email addresses\n",
    "    email_pattern = r'(?<![^\\s])\\s*([A-Za-z0-9._%+-]+)\\s*@\\s*([A-Za-z0-9.-]+\\.[A-Z|a-z]{2,})(?![^\\s])'\n",
    "    clean_text = re.sub(email_pattern, r'\\1@\\2', clean_text)\n",
    "\n",
    "    # Remove periods that are not part of a sentence or email address\n",
    "    clean_text = re.sub(r'(?<!@)\\.(?!\\w|\\s)', '', clean_text)\n",
    "\n",
    "    return clean_text"
   ]
  },
  {
   "cell_type": "code",
   "execution_count": 280,
   "metadata": {},
   "outputs": [
    {
     "data": {
      "text/plain": [
       "'Customer Services Director – Jan 2009 Curriculum Vitae ASMITA UPRETY Mob : 971529615457 Email : asmi_kim07@yahoo.com Abudhabi , UAE CAREER OBJECTIVES associated progress continuously accepting higher responsibilities challenges . Looking towards assignment wherein utilize skills achieve set targets , organizational goals results thereof . Currently looking suitable position reputable ambitious company . KEY SKILLS & COMPETENCIES Excellent communication skills networking power good interpersonal skills . Strong negotiation power . Enthusiastic , self-motivated , active excellent soft skills . Great ability develop business networking skills . Customer Focused . Pleasing personality convincing traits . Ability handle offensive costumers . Excellent Communication skill . Proven ability undertake position responsibility leadership . Enthusiastic ambitious achieve career goals EDUCATIONAL QUALIFICATION [ High School Leaving Certificate Lalpani Secondary School , Nepal ] . [ Intermediate level Certificate College Higher Education , Nepal ] . [ Bachelors Degree form Tribhuvan University , Nepal ] COMPUTER LITERACY ¾ Operating System : Windows -2000 , XP , Vista , windows 7 . ¾ MS-Office : MS-Word , Excel , etc . ¾ Internet : Well versed Internet Operations WORK EXPERIANCE [ Jan 2016 July 2018 ] [ Hart Bernstien Marketing Management ] [ Dubai , UAE ] Sales Promotor – Beauty Advisor Focus selling selling Demonstrate solid knowledge brands products Monitor sales activities generate daily sales report Prepare review store reports sales stock ageing ( slow moving , fast moving non- moving items ) Demonstrate usage benefits various Brands products Handle new launches , promotion products visual merchandising Monitor handle customer complaints take corrective action line Company policies . [ April ’ 2012 Dec 2015 ] [ Maria & Katrina Fashion ] [ Lamcy Plaza , Dubai ] Customer Care Rep /Sales Associate Serve customers providing product service information . Resolving product service problems . Attracts potential customers answering product service questions . Suggesting information products services . Creating sales product . Selling product quickly efficiently . Report sale product . Make comparisons rival products see product improved . Meet target set company . Look complaints made customers help improving overall products . Researching survey customer satisfaction . Give ideas regarding offers boost sales . Maintain accurate record sales help deriving right figures . JOB TRAINING Material Management . Cash Management . Bar code readings . PERSONAL DETAILS ¾ Date Birth : ¾ Nationality : Nepali ¾ Visa Status : Husband Visa LANGUAGES KNOWN [ English [ Read/Write/Speak/Listen ] [ Hindi [ Read/Write/Speak/Listen ] [ Nepali [ Read/Write/Speak/Listen ] declare information given true best knowledge . would proud associated esteemed organization sure would prove positive results . ________________ Asmita Uprety 09-01-199� Jyoti Prakash Uprety'"
      ]
     },
     "execution_count": 280,
     "metadata": {},
     "output_type": "execute_result"
    }
   ],
   "source": [
    "clean_text"
   ]
  },
  {
   "cell_type": "code",
   "execution_count": 281,
   "metadata": {},
   "outputs": [],
   "source": [
    "resume ='../data/raw/cvcv.pdf'\n",
    "extracted_text = extract_text_from_resume(resume)\n",
    "clean_text = preprocess_text(extracted_text)\n",
    "a_names = extract_names(extracted_text)\n",
    "b_names = extract_names(clean_text)\n",
    "emails = extract_emails(clean_text)"
   ]
  },
  {
   "cell_type": "code",
   "execution_count": 282,
   "metadata": {},
   "outputs": [
    {
     "data": {
      "text/plain": [
       "['Customer',\n",
       " 'Lalpani Secondary School',\n",
       " 'Nepal',\n",
       " 'Nepal',\n",
       " 'Degree',\n",
       " 'Tribhuvan University',\n",
       " 'Nepal',\n",
       " 'System',\n",
       " 'Vista',\n",
       " 'Excel',\n",
       " 'Bernstien Marketing',\n",
       " 'Beauty Advisor',\n",
       " 'Katrina Fashion',\n",
       " 'Dubai',\n",
       " 'Cash Management',\n",
       " 'Nepali',\n",
       " 'Husband Visa',\n",
       " 'Asmita Uprety',\n",
       " 'Jyoti Prakash Uprety']"
      ]
     },
     "execution_count": 282,
     "metadata": {},
     "output_type": "execute_result"
    }
   ],
   "source": [
    "a_names"
   ]
  },
  {
   "cell_type": "code",
   "execution_count": 283,
   "metadata": {},
   "outputs": [
    {
     "data": {
      "text/plain": [
       "['Customer',\n",
       " 'Customer',\n",
       " 'School Leaving Certificate Lalpani',\n",
       " 'Nepal',\n",
       " 'Nepal',\n",
       " 'Tribhuvan University',\n",
       " 'Nepal',\n",
       " 'System',\n",
       " 'Vista',\n",
       " 'Excel',\n",
       " 'Bernstien Marketing',\n",
       " 'Beauty Advisor Focus',\n",
       " 'Handle',\n",
       " 'Katrina Fashion',\n",
       " 'Dubai',\n",
       " 'Cash',\n",
       " 'Nepali',\n",
       " 'Husband Visa',\n",
       " 'Asmita Uprety',\n",
       " 'Jyoti Prakash Uprety']"
      ]
     },
     "execution_count": 283,
     "metadata": {},
     "output_type": "execute_result"
    }
   ],
   "source": [
    "b_names"
   ]
  },
  {
   "cell_type": "code",
   "execution_count": 284,
   "metadata": {},
   "outputs": [
    {
     "data": {
      "text/plain": [
       "['asmi_kim07@yahoo.com']"
      ]
     },
     "execution_count": 284,
     "metadata": {},
     "output_type": "execute_result"
    }
   ],
   "source": [
    "emails"
   ]
  },
  {
   "cell_type": "code",
   "execution_count": null,
   "metadata": {},
   "outputs": [],
   "source": []
  }
 ],
 "metadata": {
  "kernelspec": {
   "display_name": ".venv",
   "language": "python",
   "name": "python3"
  },
  "language_info": {
   "codemirror_mode": {
    "name": "ipython",
    "version": 3
   },
   "file_extension": ".py",
   "mimetype": "text/x-python",
   "name": "python",
   "nbconvert_exporter": "python",
   "pygments_lexer": "ipython3",
   "version": "3.10.2"
  },
  "orig_nbformat": 4
 },
 "nbformat": 4,
 "nbformat_minor": 2
}
