{
 "cells": [
  {
   "cell_type": "code",
   "execution_count": 351,
   "metadata": {},
   "outputs": [],
   "source": [
    "from pdfminer.high_level import extract_text\n",
    "import docx\n",
    "import subprocess\n",
    "import sys"
   ]
  },
  {
   "cell_type": "code",
   "execution_count": 352,
   "metadata": {},
   "outputs": [],
   "source": [
    "file_path_pdf = '../data/raw/dada.pdf'\n",
    "file_path_docx = '../data/raw/dada.docx'\n",
    "file_path_doc = '../data/raw/cv2.doc'"
   ]
  },
  {
   "cell_type": "code",
   "execution_count": 353,
   "metadata": {},
   "outputs": [],
   "source": [
    "def pdf_to_text(file_path):\n",
    "    return extract_text(file_path)"
   ]
  },
  {
   "cell_type": "code",
   "execution_count": 354,
   "metadata": {},
   "outputs": [],
   "source": [
    "def doc_to_text(file_path):\n",
    "    process = subprocess.Popen(\n",
    "        ['antiword', file_path],\n",
    "        stdout=subprocess.PIPE,\n",
    "        stderr=subprocess.PIPE,\n",
    "        universal_newlines=True,\n",
    "    )\n",
    "    stdout, stderr = process.communicate()\n",
    "    return (stdout.strip(), stderr.strip())"
   ]
  },
  {
   "cell_type": "code",
   "execution_count": 355,
   "metadata": {},
   "outputs": [],
   "source": [
    "def docx_to_text(file_path_doc):\n",
    "    doc = docx.Document(file_path_docx)\n",
    "    docx_text = ''\n",
    "    for para in doc.paragraphs:\n",
    "        docx_text += para.text + '\\n'\n",
    "    return docx_text"
   ]
  },
  {
   "cell_type": "code",
   "execution_count": 356,
   "metadata": {},
   "outputs": [
    {
     "data": {
      "text/plain": [
       "'Anish Dahal \\n\\nAddress \\nContact Number \\nEmail \\nLinkedIn \\n\\nSUMMARY \\n\\nSanepa, Lalitpur \\n+977 9817535981 \\nanishdahal441@gmail.com \\nhttps://www.linkedin.com/in/anish-dahal/ \\n\\nPassionate to learn new and challenging things. Hardworking, dedicated, and motivated to achieve \\nperfection. \\n\\nEDUCATION \\n\\nIOE, Thapathali Campus (Kathmandu) \\nBachelors in Electronics and Communication Engineering \\nNov, 2017 - Present \\n\\nCCRC (Kathmandu) \\n+2 \\nJun, 2015 - May, 2017 \\n\\nVishwa Jyoti Higher Secondary School \\nSLC \\nApr, 2003 – May, 2015 \\n\\nPROJECTS \\n\\nMinor Project: Dynamic Maze Solving using D*-Lite and Dead-End Exclusion Algorithm \\nThis was a group project of 4 people. We incorporated bot and maze design in Webots application and \\nC++ programming language was used for implementing two algorithms, one for maze exploring and \\none for maze solving. \\n\\nMajor Project: Data-Driven Approach in Isolating Vocals and Instruments from Music \\nThis was a year-long project where we used two methods namely the Signal processing approach and \\nthe Machine Learning approach. Python Programming Language was used for completing this project. \\n\\nTraining/Certifications \\n\\nWorldQuant University \\nApplied Data Science Lab \\n2022 \\nhttps://www.credly.com/badges/d71ca3c0-4c9f-4937-99c9-845ab3522479/linked_in_profile \\n\\nCoursera \\nDeep Learning Specialization \\n2022 \\nhttps://www.coursera.org/account/accomplishments/specialization/certificate/9BXJCBUTST3Q \\n\\n \\n \\n \\n \\n \\n \\n \\n \\n \\n \\n \\n \\n \\n\\x0cDatabases for Data Scientists Specialization \\n2022 \\nhttps://www.coursera.org/account/accomplishments/specialization/certificate/XMRMJPR4RVYH \\n\\nfreeCodeCamp \\nData Analysis with Python \\n2022 \\nhttps://freecodecamp.org/certification/Anixh/data-analysis-with-python-v7 \\n\\nSkills \\n\\nPython, SQL, C++, DBMS, Data Science, Data Analysis and Machine Learning \\n\\n \\n \\n \\n \\n \\n\\x0c'"
      ]
     },
     "execution_count": 356,
     "metadata": {},
     "output_type": "execute_result"
    }
   ],
   "source": [
    "pdf_text = ''\n",
    "pdf_text = pdf_to_text(file_path_pdf)\n",
    "pdf_text"
   ]
  },
  {
   "cell_type": "code",
   "execution_count": 357,
   "metadata": {},
   "outputs": [
    {
     "data": {
      "text/plain": [
       "'\\n\\n\\n\\n\\n\\n Hrekhsdf \\n Osidifkh \\n Jsadyfg \\n'"
      ]
     },
     "execution_count": 357,
     "metadata": {},
     "output_type": "execute_result"
    }
   ],
   "source": [
    "docx_text = docx_to_text(file_path_docx)\n",
    "docx_text"
   ]
  },
  {
   "cell_type": "code",
   "execution_count": 358,
   "metadata": {},
   "outputs": [
    {
     "data": {
      "text/plain": [
       "'Lorem ipsum\\n\\n\\n\\n\\nLorem ipsum dolor sit amet, consectetur adipiscing elit. Nunc ac faucibus\\nodio.\\n\\n\\n\\nVestibulum neque massa, scelerisque sit amet ligula eu, congue molestie  mi.\\nPraesent ut varius sem. Nullam at porttitor arcu, nec lacinia  nisi.  Ut  ac\\ndolor vitae odio interdum condimentum. Vivamus  dapibus  sodales  ex,  vitae\\nmalesuada  ipsum  cursus  convallis.  Maecenas   sed   egestas   nulla,   ac\\ncondimentum orci. Mauris diam felis, vulputate ac suscipit et,  iaculis  non\\nest. Curabitur semper arcu  ac  ligula  semper,  nec  luctus  nisl  blandit.\\nInteger lacinia ante ac libero lobortis imperdiet. Nullam  mollis  convallis\\nipsum, ac accumsan nunc vehicula vitae. Nulla eget justo in felis  tristique\\nfringilla. Morbi sit amet tortor quis risus  auctor  condimentum.  Morbi  in\\nullamcorper elit. Nulla iaculis tellus sit amet mauris tempus fringilla.\\n\\nMaecenas mauris lectus, lobortis et purus mattis, blandit dictum tellus.\\n\\nMaecenas non lorem quis tellus placerat varius.\\n\\nNulla facilisi.\\n\\nAenean congue fringilla justo ut aliquam.\\n\\nMauris  id  ex  erat.  Nunc  vulputate  neque  vitae  justo  facilisis,  non\\ncondimentum ante sagittis.\\n\\nMorbi viverra semper lorem nec molestie.\\n\\nMaecenas tincidunt  est  efficitur  ligula  euismod,  sit  amet  ornare  est\\nvulputate.\\n\\n\\n\\n\\n\\n\\n\\n\\n\\n\\n\\n\\n\\n\\n\\n\\n\\n\\n\\nIn non mauris justo. Duis  vehicula  mi  vel  mi  pretium,  a  viverra  erat\\nefficitur. Cras aliquam est ac eros varius,  id  iaculis  dui  auctor.  Duis\\npretium neque ligula, et pulvinar mi placerat et. Nulla nec  nunc  sit  amet\\nnunc posuere vestibulum. Ut id neque eget  tortor  mattis  tristique.  Donec\\nante  est,  blandit  sit  amet  tristique  vel,   lacinia   pulvinar   arcu.\\nPellentesque scelerisque fermentum erat, id posuere justo pulvinar ut.  Cras\\nid eros sed enim aliquam lobortis.  Sed  lobortis  nisl  ut  eros  efficitur\\ntincidunt. Cras justo mi, porttitor quis mattis vel, ultricies ut purus.  Ut\\nfacilisis et lacus eu cursus.\\n\\nIn eleifend velit vitae libero sollicitudin euismod. Fusce vitae  vestibulum\\nvelit. Pellentesque vulputate  lectus  quis  pellentesque  commodo.  Aliquam\\nerat volutpat. Vestibulum in  egestas  velit.  Pellentesque  fermentum  nisl\\nvitae fringilla venenatis. Etiam id mauris vitae orci maximus ultricies.\\n\\n\\n\\n\\nCras fringilla ipsum magna, in fringilla dui commodo a.\\n\\n\\n\\n|     |Lorem ipsum                                |Lorem ipsum|Lorem ipsum |\\n|1    |In eleifend velit vitae libero sollicitudin|Lorem      |            |\\n|     |euismod.                                   |           |            |\\n|2    |Cras fringilla ipsum magna, in fringilla   |Ipsum      |            |\\n|     |dui commodo a.                             |           |            |\\n|3    |Aliquam erat volutpat.                     |Lorem      |            |\\n|4    |Fusce vitae vestibulum velit.              |Lorem      |            |\\n|5    |Etiam vehicula luctus fermentum.           |Ipsum      |            |\\n\\n\\nEtiam vehicula luctus fermentum. In vel metus congue, pulvinar  lectus  vel,\\nfermentum dui. Maecenas ante orci, egestas ut aliquet sit amet,  sagittis  a\\nmagna. Aliquam ante quam, pellentesque ut dignissim quis, laoreet eget  est.\\nAliquam erat volutpat. Class aptent taciti sociosqu ad litora  torquent  per\\nconubia nostra, per inceptos himenaeos.  Ut  ullamcorper  justo  sapien,  in\\ncursus libero viverra eget. Vivamus auctor imperdiet urna, at  pulvinar  leo\\nposuere laoreet. Suspendisse neque nisl, fringilla at  iaculis  scelerisque,\\nornare vel  dolor.  Ut  et  pulvinar  nunc.  Pellentesque  fringilla  mollis\\nefficitur. Nullam venenatis commodo imperdiet.  Morbi  velit  neque,  semper\\nquis  lorem  quis,  efficitur  dignissim  ipsum.  Ut  ac  lorem  sed  turpis\\nimperdiet eleifend sit amet id sapien.\\n\\n\\n\\n\\n\\n\\nLorem ipsum dolor sit amet, consectetur adipiscing elit.\\n\\n\\n\\nNunc ac faucibus odio. Vestibulum neque massa, scelerisque sit  amet  ligula\\neu, congue molestie mi. Praesent ut varius sem. Nullam  at  porttitor  arcu,\\nnec lacinia nisi. Ut ac  dolor  vitae  odio  interdum  condimentum.  Vivamus\\ndapibus sodales ex, vitae malesuada ipsum  cursus  convallis.  Maecenas  sed\\negestas  nulla,  ac  condimentum  orci.  Mauris  diam  felis,  vulputate  ac\\nsuscipit et, iaculis non est. Curabitur semper arcu ac  ligula  semper,  nec\\nluctus nisl blandit. Integer lacinia  ante  ac  libero  lobortis  imperdiet.\\nNullam mollis convallis ipsum, ac accumsan nunc vehicula vitae.  Nulla  eget\\njusto in felis tristique fringilla. Morbi sit amet tortor quis risus  auctor\\ncondimentum. Morbi in  ullamcorper  elit.  Nulla  iaculis  tellus  sit  amet\\nmauris tempus fringilla.\\n\\n\\n1 Maecenas mauris lectus, lobortis et purus mattis, blandit dictum tellus.\\n\\nMaecenas non lorem quis  tellus  placerat  varius.  Nulla  facilisi.  Aenean\\ncongue fringilla justo ut aliquam. Mauris id ex erat. Nunc  vulputate  neque\\nvitae justo facilisis, non condimentum ante sagittis. Morbi  viverra  semper\\nlorem nec molestie. Maecenas tincidunt est  efficitur  ligula  euismod,  sit\\namet ornare est vulputate.\\n\\nIn non mauris justo. Duis  vehicula  mi  vel  mi  pretium,  a  viverra  erat\\nefficitur. Cras aliquam est ac eros varius,  id  iaculis  dui  auctor.  Duis\\npretium neque ligula, et pulvinar mi placerat et. Nulla nec  nunc  sit  amet\\nnunc posuere vestibulum. Ut id neque eget  tortor  mattis  tristique.  Donec\\nante  est,  blandit  sit  amet  tristique  vel,   lacinia   pulvinar   arcu.\\nPellentesque scelerisque fermentum erat, id posuere justo pulvinar ut.  Cras\\nid eros sed enim aliquam lobortis.  Sed  lobortis  nisl  ut  eros  efficitur\\ntincidunt. Cras justo mi, porttitor quis mattis vel, ultricies ut purus.  Ut\\nfacilisis et lacus eu cursus.\\n\\n\\n2 In eleifend velit vitae libero sollicitudin euismod.\\n\\nFusce  vitae  vestibulum   velit.   Pellentesque   vulputate   lectus   quis\\npellentesque commodo. Aliquam erat volutpat. Vestibulum  in  egestas  velit.\\nPellentesque fermentum nisl  vitae  fringilla  venenatis.  Etiam  id  mauris\\nvitae orci maximus ultricies. Cras fringilla ipsum magna, in  fringilla  dui\\ncommodo a.\\n\\nEtiam vehicula luctus fermentum. In vel metus congue, pulvinar  lectus  vel,\\nfermentum dui. Maecenas ante orci, egestas ut aliquet sit amet,  sagittis  a\\nmagna. Aliquam ante quam, pellentesque ut dignissim quis, laoreet eget  est.\\nAliquam erat volutpat. Class aptent taciti sociosqu ad litora  torquent  per\\nconubia nostra, per inceptos himenaeos.  Ut  ullamcorper  justo  sapien,  in\\ncursus libero viverra eget. Vivamus auctor imperdiet urna, at  pulvinar  leo\\nposuere laoreet. Suspendisse neque nisl, fringilla at  iaculis  scelerisque,\\nornare vel  dolor.  Ut  et  pulvinar  nunc.  Pellentesque  fringilla  mollis\\nefficitur. Nullam venenatis commodo imperdiet.  Morbi  velit  neque,  semper\\nquis  lorem  quis,  efficitur  dignissim  ipsum.  Ut  ac  lorem  sed  turpis\\nimperdiet eleifend sit amet id sapien.\\n\\n\\n\\n\\n\\n\\n3 Maecenas mauris lectus, lobortis et purus mattis, blandit dictum tellus.\\n\\nMaecenas non lorem quis  tellus  placerat  varius.  Nulla  facilisi.  Aenean\\ncongue fringilla justo ut aliquam. Mauris id ex erat. Nunc  vulputate  neque\\nvitae justo facilisis, non condimentum ante sagittis. Morbi  viverra  semper\\nlorem nec molestie. Maecenas tincidunt est  efficitur  ligula  euismod,  sit\\namet ornare est vulputate.\\n\\nIn non mauris justo. Duis  vehicula  mi  vel  mi  pretium,  a  viverra  erat\\nefficitur. Cras aliquam est ac eros varius,  id  iaculis  dui  auctor.  Duis\\npretium neque ligula, et pulvinar mi placerat et. Nulla nec  nunc  sit  amet\\nnunc posuere vestibulum. Ut id neque eget  tortor  mattis  tristique.  Donec\\nante  est,  blandit  sit  amet  tristique  vel,   lacinia   pulvinar   arcu.\\nPellentesque scelerisque fermentum erat, id posuere justo pulvinar ut.  Cras\\nid eros sed enim aliquam lobortis.  Sed  lobortis  nisl  ut  eros  efficitur\\ntincidunt. Cras justo mi, porttitor quis mattis vel, ultricies ut purus.  Ut\\nfacilisis et lacus eu cursus.\\n\\n\\n4 In eleifend velit vitae libero sollicitudin euismod.\\n\\nFusce  vitae  vestibulum   velit.   Pellentesque   vulputate   lectus   quis\\npellentesque commodo. Aliquam erat volutpat. Vestibulum  in  egestas  velit.\\nPellentesque fermentum nisl  vitae  fringilla  venenatis.  Etiam  id  mauris\\nvitae orci maximus ultricies. Cras fringilla ipsum magna, in  fringilla  dui\\ncommodo a.\\n\\nEtiam vehicula luctus fermentum. In vel metus congue, pulvinar  lectus  vel,\\nfermentum dui. Maecenas ante orci, egestas ut aliquet sit amet,  sagittis  a\\nmagna. Aliquam ante quam, pellentesque ut dignissim quis, laoreet eget  est.\\nAliquam erat volutpat. Class aptent taciti sociosqu ad litora  torquent  per\\nconubia nostra, per inceptos himenaeos.  Ut  ullamcorper  justo  sapien,  in\\ncursus libero viverra eget. Vivamus auctor imperdiet urna, at  pulvinar  leo\\nposuere laoreet. Suspendisse neque nisl, fringilla at  iaculis  scelerisque,\\nornare vel  dolor.  Ut  et  pulvinar  nunc.  Pellentesque  fringilla  mollis\\nefficitur. Nullam venenatis commodo imperdiet.  Morbi  velit  neque,  semper\\nquis  lorem  quis,  efficitur  dignissim  ipsum.  Ut  ac  lorem  sed  turpis\\nimperdiet eleifend sit amet id sapien.\\n\\n\\n\\n                           -----------------------\\n[pic]'"
      ]
     },
     "execution_count": 358,
     "metadata": {},
     "output_type": "execute_result"
    }
   ],
   "source": [
    "doc_text, err = doc_to_text(file_path_doc)\n",
    " \n",
    "if err:\n",
    "    print(err)\n",
    "    sys.exit(2)\n",
    "doc_text"
   ]
  }
 ],
 "metadata": {
  "kernelspec": {
   "display_name": "Python 3",
   "language": "python",
   "name": "python3"
  },
  "language_info": {
   "codemirror_mode": {
    "name": "ipython",
    "version": 3
   },
   "file_extension": ".py",
   "mimetype": "text/x-python",
   "name": "python",
   "nbconvert_exporter": "python",
   "pygments_lexer": "ipython3",
   "version": "3.10.2"
  },
  "orig_nbformat": 4
 },
 "nbformat": 4,
 "nbformat_minor": 2
}
