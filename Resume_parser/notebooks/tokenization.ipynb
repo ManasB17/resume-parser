{
 "cells": [
  {
   "cell_type": "code",
   "execution_count": 9,
   "metadata": {},
   "outputs": [],
   "source": [
    "from pdfminer.high_level import extract_text"
   ]
  },
  {
   "cell_type": "code",
   "execution_count": 10,
   "metadata": {},
   "outputs": [],
   "source": [
    "file_path_pdf = '../data/raw/dada.pdf'"
   ]
  },
  {
   "cell_type": "code",
   "execution_count": 11,
   "metadata": {},
   "outputs": [],
   "source": [
    "def pdf_to_text(file_path):\n",
    "    return extract_text(file_path)"
   ]
  },
  {
   "cell_type": "code",
   "execution_count": 12,
   "metadata": {},
   "outputs": [
    {
     "data": {
      "text/plain": [
       "'Anish Dahal \\n\\nAddress \\nContact Number \\nEmail \\nLinkedIn \\n\\nSUMMARY \\n\\nSanepa, Lalitpur \\n+977 9817535981 \\nanishdahal441@gmail.com \\nhttps://www.linkedin.com/in/anish-dahal/ \\n\\nPassionate to learn new and challenging things. Hardworking, dedicated, and motivated to achieve \\nperfection. \\n\\nEDUCATION \\n\\nIOE, Thapathali Campus (Kathmandu) \\nBachelors in Electronics and Communication Engineering \\nNov, 2017 - Present \\n\\nCCRC (Kathmandu) \\n+2 \\nJun, 2015 - May, 2017 \\n\\nVishwa Jyoti Higher Secondary School \\nSLC \\nApr, 2003 – May, 2015 \\n\\nPROJECTS \\n\\nMinor Project: Dynamic Maze Solving using D*-Lite and Dead-End Exclusion Algorithm \\nThis was a group project of 4 people. We incorporated bot and maze design in Webots application and \\nC++ programming language was used for implementing two algorithms, one for maze exploring and \\none for maze solving. \\n\\nMajor Project: Data-Driven Approach in Isolating Vocals and Instruments from Music \\nThis was a year-long project where we used two methods namely the Signal processing approach and \\nthe Machine Learning approach. Python Programming Language was used for completing this project. \\n\\nTraining/Certifications \\n\\nWorldQuant University \\nApplied Data Science Lab \\n2022 \\nhttps://www.credly.com/badges/d71ca3c0-4c9f-4937-99c9-845ab3522479/linked_in_profile \\n\\nCoursera \\nDeep Learning Specialization \\n2022 \\nhttps://www.coursera.org/account/accomplishments/specialization/certificate/9BXJCBUTST3Q \\n\\n \\n \\n \\n \\n \\n \\n \\n \\n \\n \\n \\n \\n \\n\\x0cDatabases for Data Scientists Specialization \\n2022 \\nhttps://www.coursera.org/account/accomplishments/specialization/certificate/XMRMJPR4RVYH \\n\\nfreeCodeCamp \\nData Analysis with Python \\n2022 \\nhttps://freecodecamp.org/certification/Anixh/data-analysis-with-python-v7 \\n\\nSkills \\n\\nPython, SQL, C++, DBMS, Data Science, Data Analysis and Machine Learning \\n\\n \\n \\n \\n \\n \\n\\x0c'"
      ]
     },
     "execution_count": 12,
     "metadata": {},
     "output_type": "execute_result"
    }
   ],
   "source": [
    "pdf_text = pdf_to_text(file_path_pdf)\n",
    "pdf_text"
   ]
  },
  {
   "cell_type": "code",
   "execution_count": null,
   "metadata": {},
   "outputs": [],
   "source": []
  }
 ],
 "metadata": {
  "kernelspec": {
   "display_name": ".venv",
   "language": "python",
   "name": "python3"
  },
  "language_info": {
   "codemirror_mode": {
    "name": "ipython",
    "version": 3
   },
   "file_extension": ".py",
   "mimetype": "text/x-python",
   "name": "python",
   "nbconvert_exporter": "python",
   "pygments_lexer": "ipython3",
   "version": "3.10.2"
  },
  "orig_nbformat": 4
 },
 "nbformat": 4,
 "nbformat_minor": 2
}
